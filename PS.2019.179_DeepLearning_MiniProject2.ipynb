{
  "nbformat": 4,
  "nbformat_minor": 0,
  "metadata": {
    "colab": {
      "provenance": []
    },
    "kernelspec": {
      "name": "python3",
      "display_name": "Python 3"
    },
    "language_info": {
      "name": "python"
    }
  },
  "cells": [
    {
      "cell_type": "markdown",
      "source": [
        "Import Necessary libraries"
      ],
      "metadata": {
        "id": "gXbk--v3Sha4"
      }
    },
    {
      "cell_type": "code",
      "execution_count": 1,
      "metadata": {
        "id": "BqPlVYZESYao"
      },
      "outputs": [],
      "source": [
        "import numpy as np\n",
        "import pandas as pd\n",
        "import matplotlib.pyplot as plt\n",
        "from sklearn.preprocessing import MinMaxScaler\n",
        "from tensorflow.keras.models import Sequential\n",
        "from tensorflow.keras.layers import LSTM, Dense"
      ]
    },
    {
      "cell_type": "markdown",
      "source": [
        "Mount Google Drive"
      ],
      "metadata": {
        "id": "5M42lQ0LSpTW"
      }
    },
    {
      "cell_type": "code",
      "source": [
        "from google.colab import drive\n",
        "import pandas as pd\n",
        "import numpy as np\n",
        "from sklearn.preprocessing import MinMaxScaler\n",
        "\n",
        "drive.mount('/content/drive')"
      ],
      "metadata": {
        "colab": {
          "base_uri": "https://localhost:8080/"
        },
        "id": "bvMZ1yEmScCk",
        "outputId": "3fa59760-b3e4-43be-8514-0e658e62b51b"
      },
      "execution_count": 2,
      "outputs": [
        {
          "output_type": "stream",
          "name": "stdout",
          "text": [
            "Mounted at /content/drive\n"
          ]
        }
      ]
    },
    {
      "cell_type": "markdown",
      "source": [
        "Specify the path to the CSV file of the dataset on Google Drive"
      ],
      "metadata": {
        "id": "H6EjQ5YaS1p1"
      }
    },
    {
      "cell_type": "code",
      "source": [
        "file_path = '/content/drive/MyDrive/Deep_Learning_Mini_Project_2/Cargills_PLC_DataSet/CARG-Historical-Data.csv'"
      ],
      "metadata": {
        "id": "rzHsuCvzS0WS"
      },
      "execution_count": 7,
      "outputs": []
    },
    {
      "cell_type": "markdown",
      "source": [
        "Load Data"
      ],
      "metadata": {
        "id": "NgdNrGpaURe7"
      }
    },
    {
      "cell_type": "code",
      "source": [
        "data = pd.read_csv(file_path)\n",
        "prices = data['Price'].values.reshape(-1, 1)"
      ],
      "metadata": {
        "id": "7UzIQGbzUTq0"
      },
      "execution_count": 8,
      "outputs": []
    },
    {
      "cell_type": "markdown",
      "source": [
        "Normalize data"
      ],
      "metadata": {
        "id": "OPqZgzuEUUp4"
      }
    },
    {
      "cell_type": "code",
      "source": [
        "scaler = MinMaxScaler(feature_range=(0, 1))\n",
        "prices_normalized = scaler.fit_transform(prices)"
      ],
      "metadata": {
        "id": "z_VcYwHhUauj"
      },
      "execution_count": 9,
      "outputs": []
    },
    {
      "cell_type": "markdown",
      "source": [
        "Split data into training and testing sets"
      ],
      "metadata": {
        "id": "feTGpY5HUb29"
      }
    },
    {
      "cell_type": "code",
      "source": [
        "split_ratio = 0.8\n",
        "split_index = int(len(prices_normalized) * split_ratio)\n",
        "train_data = prices_normalized[:split_index]\n",
        "test_data = prices_normalized[split_index:]"
      ],
      "metadata": {
        "id": "mnXz1paFU-Wx"
      },
      "execution_count": 10,
      "outputs": []
    },
    {
      "cell_type": "markdown",
      "source": [
        "Prepare data for LSTM"
      ],
      "metadata": {
        "id": "1uUyqzBVVA0s"
      }
    },
    {
      "cell_type": "code",
      "source": [
        "def create_dataset(dataset, time_steps=1):\n",
        "    x, y = [], []\n",
        "    for i in range(len(dataset) - time_steps):\n",
        "        a = dataset[i:(i + time_steps), 0]\n",
        "        x.append(a)\n",
        "        y.append(dataset[i + time_steps, 0])\n",
        "    return np.array(x), np.array(y)\n",
        "\n",
        "time_steps = 10\n",
        "X_train, y_train = create_dataset(train_data, time_steps)\n",
        "X_test, y_test = create_dataset(test_data, time_steps)\n",
        "\n",
        "# Reshape input data to be in the form [samples, time steps, features]\n",
        "X_train = np.reshape(X_train, (X_train.shape[0], X_train.shape[1], 1))\n",
        "X_test = np.reshape(X_test, (X_test.shape[0], X_test.shape[1], 1))"
      ],
      "metadata": {
        "id": "qNmaP7IRVFaL"
      },
      "execution_count": 11,
      "outputs": []
    },
    {
      "cell_type": "markdown",
      "source": [
        "Build LSTM model"
      ],
      "metadata": {
        "id": "IWKkXugeVMmo"
      }
    },
    {
      "cell_type": "code",
      "source": [
        "model = Sequential()\n",
        "model.add(LSTM(units=50, return_sequences=True, input_shape=(X_train.shape[1], 1)))\n",
        "model.add(LSTM(units=50, return_sequences=True))\n",
        "model.add(LSTM(units=50))\n",
        "model.add(Dense(units=1))\n",
        "\n",
        "model.compile(optimizer='adam', loss='mean_squared_error')\n",
        "model.fit(X_train, y_train, epochs=50, batch_size=32)"
      ],
      "metadata": {
        "colab": {
          "base_uri": "https://localhost:8080/"
        },
        "id": "pC3hlvUIVUHz",
        "outputId": "91ac3a71-b2af-42b3-caa9-05a23e9007c2"
      },
      "execution_count": 12,
      "outputs": [
        {
          "output_type": "stream",
          "name": "stdout",
          "text": [
            "Epoch 1/50\n",
            "7/7 [==============================] - 6s 19ms/step - loss: 0.2294\n",
            "Epoch 2/50\n",
            "7/7 [==============================] - 0s 15ms/step - loss: 0.0378\n",
            "Epoch 3/50\n",
            "7/7 [==============================] - 0s 15ms/step - loss: 0.0211\n",
            "Epoch 4/50\n",
            "7/7 [==============================] - 0s 16ms/step - loss: 0.0227\n",
            "Epoch 5/50\n",
            "7/7 [==============================] - 0s 15ms/step - loss: 0.0118\n",
            "Epoch 6/50\n",
            "7/7 [==============================] - 0s 15ms/step - loss: 0.0085\n",
            "Epoch 7/50\n",
            "7/7 [==============================] - 0s 15ms/step - loss: 0.0065\n",
            "Epoch 8/50\n",
            "7/7 [==============================] - 0s 16ms/step - loss: 0.0051\n",
            "Epoch 9/50\n",
            "7/7 [==============================] - 0s 16ms/step - loss: 0.0044\n",
            "Epoch 10/50\n",
            "7/7 [==============================] - 0s 17ms/step - loss: 0.0040\n",
            "Epoch 11/50\n",
            "7/7 [==============================] - 0s 15ms/step - loss: 0.0039\n",
            "Epoch 12/50\n",
            "7/7 [==============================] - 0s 16ms/step - loss: 0.0038\n",
            "Epoch 13/50\n",
            "7/7 [==============================] - 0s 15ms/step - loss: 0.0038\n",
            "Epoch 14/50\n",
            "7/7 [==============================] - 0s 15ms/step - loss: 0.0038\n",
            "Epoch 15/50\n",
            "7/7 [==============================] - 0s 15ms/step - loss: 0.0038\n",
            "Epoch 16/50\n",
            "7/7 [==============================] - 0s 16ms/step - loss: 0.0037\n",
            "Epoch 17/50\n",
            "7/7 [==============================] - 0s 15ms/step - loss: 0.0039\n",
            "Epoch 18/50\n",
            "7/7 [==============================] - 0s 15ms/step - loss: 0.0038\n",
            "Epoch 19/50\n",
            "7/7 [==============================] - 0s 18ms/step - loss: 0.0037\n",
            "Epoch 20/50\n",
            "7/7 [==============================] - 0s 15ms/step - loss: 0.0040\n",
            "Epoch 21/50\n",
            "7/7 [==============================] - 0s 16ms/step - loss: 0.0039\n",
            "Epoch 22/50\n",
            "7/7 [==============================] - 0s 15ms/step - loss: 0.0039\n",
            "Epoch 23/50\n",
            "7/7 [==============================] - 0s 16ms/step - loss: 0.0039\n",
            "Epoch 24/50\n",
            "7/7 [==============================] - 0s 16ms/step - loss: 0.0042\n",
            "Epoch 25/50\n",
            "7/7 [==============================] - 0s 15ms/step - loss: 0.0041\n",
            "Epoch 26/50\n",
            "7/7 [==============================] - 0s 16ms/step - loss: 0.0040\n",
            "Epoch 27/50\n",
            "7/7 [==============================] - 0s 16ms/step - loss: 0.0041\n",
            "Epoch 28/50\n",
            "7/7 [==============================] - 0s 16ms/step - loss: 0.0039\n",
            "Epoch 29/50\n",
            "7/7 [==============================] - 0s 15ms/step - loss: 0.0040\n",
            "Epoch 30/50\n",
            "7/7 [==============================] - 0s 15ms/step - loss: 0.0037\n",
            "Epoch 31/50\n",
            "7/7 [==============================] - 0s 16ms/step - loss: 0.0037\n",
            "Epoch 32/50\n",
            "7/7 [==============================] - 0s 15ms/step - loss: 0.0036\n",
            "Epoch 33/50\n",
            "7/7 [==============================] - 0s 15ms/step - loss: 0.0037\n",
            "Epoch 34/50\n",
            "7/7 [==============================] - 0s 16ms/step - loss: 0.0048\n",
            "Epoch 35/50\n",
            "7/7 [==============================] - 0s 16ms/step - loss: 0.0037\n",
            "Epoch 36/50\n",
            "7/7 [==============================] - 0s 16ms/step - loss: 0.0039\n",
            "Epoch 37/50\n",
            "7/7 [==============================] - 0s 15ms/step - loss: 0.0037\n",
            "Epoch 38/50\n",
            "7/7 [==============================] - 0s 16ms/step - loss: 0.0035\n",
            "Epoch 39/50\n",
            "7/7 [==============================] - 0s 16ms/step - loss: 0.0035\n",
            "Epoch 40/50\n",
            "7/7 [==============================] - 0s 15ms/step - loss: 0.0036\n",
            "Epoch 41/50\n",
            "7/7 [==============================] - 0s 15ms/step - loss: 0.0036\n",
            "Epoch 42/50\n",
            "7/7 [==============================] - 0s 15ms/step - loss: 0.0036\n",
            "Epoch 43/50\n",
            "7/7 [==============================] - 0s 15ms/step - loss: 0.0035\n",
            "Epoch 44/50\n",
            "7/7 [==============================] - 0s 15ms/step - loss: 0.0036\n",
            "Epoch 45/50\n",
            "7/7 [==============================] - 0s 17ms/step - loss: 0.0037\n",
            "Epoch 46/50\n",
            "7/7 [==============================] - 0s 16ms/step - loss: 0.0037\n",
            "Epoch 47/50\n",
            "7/7 [==============================] - 0s 15ms/step - loss: 0.0038\n",
            "Epoch 48/50\n",
            "7/7 [==============================] - 0s 15ms/step - loss: 0.0036\n",
            "Epoch 49/50\n",
            "7/7 [==============================] - 0s 15ms/step - loss: 0.0041\n",
            "Epoch 50/50\n",
            "7/7 [==============================] - 0s 15ms/step - loss: 0.0036\n"
          ]
        },
        {
          "output_type": "execute_result",
          "data": {
            "text/plain": [
              "<keras.src.callbacks.History at 0x7a9ae0467ca0>"
            ]
          },
          "metadata": {},
          "execution_count": 12
        }
      ]
    },
    {
      "cell_type": "markdown",
      "source": [
        "Predictions"
      ],
      "metadata": {
        "id": "KJSLBr9oVcyl"
      }
    },
    {
      "cell_type": "code",
      "source": [
        "predicted_stock_prices = model.predict(X_test)\n",
        "predicted_stock_prices = scaler.inverse_transform(predicted_stock_prices.reshape(-1, 1))\n",
        "\n",
        "# Plot the results\n",
        "plt.plot(data['Date'][split_index + time_steps:], predicted_stock_prices, label='Predicted Prices')\n",
        "plt.plot(data['Date'][split_index + time_steps:], scaler.inverse_transform(test_data[time_steps:].reshape(-1, 1)),\n",
        "         label='Actual Prices')\n",
        "plt.xlabel('Date')\n",
        "plt.ylabel('Stock Price')\n",
        "plt.legend()\n",
        "plt.show()"
      ],
      "metadata": {
        "colab": {
          "base_uri": "https://localhost:8080/",
          "height": 471
        },
        "id": "KOiExuLJVejk",
        "outputId": "15f6d898-9b3c-4f88-ff83-6027a5eaa5b7"
      },
      "execution_count": 13,
      "outputs": [
        {
          "output_type": "stream",
          "name": "stdout",
          "text": [
            "2/2 [==============================] - 1s 9ms/step\n"
          ]
        },
        {
          "output_type": "display_data",
          "data": {
            "text/plain": [
              "<Figure size 640x480 with 1 Axes>"
            ],
            "image/png": "[encoded data removed]"
          },
          "metadata": {}
        }
      ]
    },
    {
      "cell_type": "markdown",
      "source": [
        "Comparison of the predicted prices with the actial prices"
      ],
      "metadata": {
        "id": "n3QuwNbfViMG"
      }
    },
    {
      "cell_type": "code",
      "source": [
        "# Combine actual and predicted prices into a DataFrame for easier printing\n",
        "results_df = pd.DataFrame({\n",
        "    'Date': data['Date'][split_index + time_steps:],\n",
        "    'Actual Prices': scaler.inverse_transform(test_data[time_steps:].reshape(-1, 1)).flatten(),\n",
        "    'Predicted Prices': predicted_stock_prices.flatten()\n",
        "})\n",
        "\n",
        "# Print the DataFrame\n",
        "print(results_df)"
      ],
      "metadata": {
        "colab": {
          "base_uri": "https://localhost:8080/"
        },
        "id": "TkJQZOXsVt_v",
        "outputId": "b0c1ed68-190e-447f-f8e9-2f77275651a3"
      },
      "execution_count": 14,
      "outputs": [
        {
          "output_type": "stream",
          "name": "stdout",
          "text": [
            "           Date  Actual Prices  Predicted Prices\n",
            "222  03/14/2023         230.00        232.466492\n",
            "223  03/13/2023         220.00        232.289444\n",
            "224  03/10/2023         232.25        231.556625\n",
            "225  03/09/2023         232.50        230.655701\n",
            "226  03/08/2023         232.00        229.888016\n",
            "227  03/07/2023         230.00        228.928284\n",
            "228  03/03/2023         229.50        228.193954\n",
            "229  03/02/2023         229.50        227.802216\n",
            "230  03/01/2023         220.00        227.831879\n",
            "231  02/28/2023         229.50        227.614899\n",
            "232  02/24/2023         228.25        227.408707\n",
            "233  02/23/2023         228.25        227.171844\n",
            "234  02/22/2023         220.25        227.685959\n",
            "235  02/21/2023         225.00        227.020065\n",
            "236  02/20/2023         225.00        226.282562\n",
            "237  02/16/2023         225.00        225.580566\n",
            "238  02/15/2023         224.75        225.056305\n",
            "239  02/14/2023         225.00        224.593872\n",
            "240  02/13/2023         225.00        224.170151\n",
            "241  02/10/2023         225.00        224.504730\n",
            "242  02/09/2023         226.25        224.071075\n",
            "243  02/08/2023         225.00        223.815384\n",
            "244  02/07/2023         230.00        223.615875\n",
            "245  02/06/2023         227.00        224.152405\n",
            "246  02/03/2023         233.00        224.345535\n",
            "247  02/01/2023         229.75        224.693863\n",
            "248  01/31/2023         230.00        225.152710\n",
            "249  01/30/2023         225.00        225.700958\n",
            "250  01/26/2023         220.00        226.163086\n",
            "251  01/25/2023         220.50        226.398010\n",
            "252  01/24/2023         225.00        226.361603\n",
            "253  01/23/2023         225.00        226.061874\n",
            "254  01/20/2023         225.00        225.777435\n",
            "255  01/19/2023         229.00        225.080078\n",
            "256  01/18/2023         230.00        224.743393\n",
            "257  01/17/2023         230.00        224.126953\n",
            "258  01/12/2023         230.00        224.008102\n",
            "259  01/11/2023         226.00        224.066650\n",
            "260  01/10/2023         230.00        224.582611\n",
            "261  01/09/2023         234.50        225.502960\n",
            "262  01/05/2023         226.00        226.433228\n",
            "263  01/04/2023         235.00        226.927933\n",
            "264  01/03/2023         236.75        227.478577\n",
            "265  01/02/2023         235.00        228.152695\n"
          ]
        }
      ]
    },
    {
      "cell_type": "markdown",
      "source": [
        "Assess the performance of the model by computing the Root Mean Squared Error (RMSE)"
      ],
      "metadata": {
        "id": "iWHxyDHcV1nO"
      }
    },
    {
      "cell_type": "code",
      "source": [
        "from sklearn.metrics import mean_squared_error\n",
        "from math import sqrt\n",
        "\n",
        "# Make predictions on the test data\n",
        "predicted_stock_prices = model.predict(X_test)\n",
        "predicted_stock_prices = scaler.inverse_transform(predicted_stock_prices.reshape(-1, 1))\n",
        "\n",
        "# Inverse transform the original test data for comparison\n",
        "actual_stock_prices = scaler.inverse_transform(test_data[time_steps:].reshape(-1, 1))\n",
        "\n",
        "# Calculate RMSE\n",
        "rmse = sqrt(mean_squared_error(actual_stock_prices, predicted_stock_prices))\n",
        "print(f'Root Mean Squared Error (RMSE): {rmse}')"
      ],
      "metadata": {
        "colab": {
          "base_uri": "https://localhost:8080/"
        },
        "id": "8-Ouv6ncWLst",
        "outputId": "45710cf3-a652-49c8-f215-ae1e4bf499f0"
      },
      "execution_count": 15,
      "outputs": [
        {
          "output_type": "stream",
          "name": "stdout",
          "text": [
            "2/2 [==============================] - 0s 9ms/step\n",
            "Root Mean Squared Error (RMSE): 4.7240825171101966\n"
          ]
        }
      ]
    }
  ]
}